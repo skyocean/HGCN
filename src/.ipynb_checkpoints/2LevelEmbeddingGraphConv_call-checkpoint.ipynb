{
 "cells": [
  {
   "cell_type": "code",
   "execution_count": null,
   "id": "f3c67f2c-2d31-4f40-9cb3-e3ecd561df8c",
   "metadata": {},
   "outputs": [],
   "source": [
    "%reload_ext autoreload\n",
    "%autoreload 2\n",
    "import pandas as pd\n",
    "import numpy as np\n",
    "import optuna \n",
    "import torch\n",
    "from torch_geometric.loader import DataLoader\n",
    "from sklearn.model_selection import train_test_split\n",
    "from DataEncoder import encode_pad_event, encode_pad_sequence, scale_time_differences, label_encode_y, encode_textual_event\n",
    "from DurationEmbedding import duration_embedding_layer\n",
    "from TwoLevelEmbeddingGraphConv import prepare_data, CustomDataset, train, evaluate, EarlyStopping, EventSequenceEmbeddingGraphConvModel, objective, load_model\n",
    "from utils import plot_training_history, print_best_hp_graphconv, best_trial_path\n",
    "import os \n",
    "import shutil"
   ]
  },
  {
   "cell_type": "code",
   "execution_count": null,
   "id": "fe997fd5-5eff-4777-9575-f798a55df381",
   "metadata": {},
   "outputs": [],
   "source": [
    "event = pd.read_csv(\"D:/Research in UAE/sequence/output/Event_Feature_pro.csv\")\n",
    "sequence = pd.read_csv(\"D:/Research in UAE/sequence/output/Sequence_Feature_pro.csv\")\n",
    "#event = pd.read_csv(\"D:/Research in UAE/sequence/output/BPI12af_Combin_Feature.csv\")\n",
    "#sequence = event[['case:concept:name','case:AMOUNT_REQ','result']].groupby(['case:concept:name']).first()\n",
    "#sequence = sequence.reset_index()"
   ]
  },
  {
   "cell_type": "code",
   "execution_count": null,
   "id": "37fd8a0f-487e-4093-b496-ec286449c446",
   "metadata": {},
   "outputs": [],
   "source": [
    "y_col = sequence.result\n",
    "y_encode = label_encode_y(y_col)"
   ]
  },
  {
   "cell_type": "code",
   "execution_count": null,
   "id": "4800e17e-d482-4e99-ac44-ce4a8d919c8d",
   "metadata": {},
   "outputs": [],
   "source": [
    "cat_col_event = ['Resource', 'outcome', \"stopcode\"]\n",
    "num_col_event = ['net_promotor_score', 'creditscore', 'rate_charged', 'duration']\n",
    "case_index = 'Case ID'\n",
    "\n",
    "#cat_col_event = ['StartRes', 'CompleteRes']\n",
    "#num_col_event = ['Duration']\n",
    "#case_index = 'case:concept:name'\n",
    "\n",
    "event_encode = encode_pad_event(event, cat_col_event, num_col_event, case_index, cat_mask = True, num_mask = True, eos = False)"
   ]
  },
  {
   "cell_type": "code",
   "execution_count": null,
   "id": "26ba21c5-e7e1-4350-b32d-fefee1f397e4",
   "metadata": {},
   "outputs": [],
   "source": [
    "cat_col_seq = ['plan']\n",
    "num_col_seq = ['age', 'coverage_numeric', 'length_of_stay']\n",
    "#cat_col_seq = []\n",
    "#num_col_seq = ['case:AMOUNT_REQ']\n",
    "sequence_encode = encode_pad_sequence(sequence, cat_col_seq, num_col_seq)"
   ]
  },
  {
   "cell_type": "code",
   "execution_count": null,
   "id": "ed3e56ee-add3-4756-863d-f938fa889b0b",
   "metadata": {},
   "outputs": [],
   "source": [
    "start_time_col = 'Start Timestamp'\n",
    "#start_time_col = 'StartTime'\n",
    "scaled_time_diffs = scale_time_differences(event, sequence, start_time_col, case_index)"
   ]
  },
  {
   "cell_type": "code",
   "execution_count": null,
   "id": "f20d7137-a7c2-4145-8032-98e2b62ebffb",
   "metadata": {},
   "outputs": [],
   "source": [
    "#text_encode, text_size = encode_textual_event(event, 'activity', case_index, eos = False, pad_value = -1)\n",
    "text_encode, text_size = encode_textual_event(event, 'Activity_code', case_index, eos = False, pad_value = -1)"
   ]
  },
  {
   "cell_type": "code",
   "execution_count": null,
   "id": "5461683d-e0eb-4c3f-80a6-b24320092496",
   "metadata": {},
   "outputs": [],
   "source": [
    "num_sequences = event_encode.shape[0]\n",
    "max_num_events = event_encode.shape[1]\n",
    "num_event_features = event_encode.shape[2]\n",
    "num_sequence_features = sequence_encode.shape[1]\n",
    "num_embedding_features = text_size"
   ]
  },
  {
   "cell_type": "code",
   "execution_count": null,
   "id": "2357d304-bb34-4148-a1f7-8080b3c23fcc",
   "metadata": {},
   "outputs": [],
   "source": [
    "# data preparation is done as described above\n",
    "event_feature_list = prepare_data(event_encode, scaled_time_diffs, torch.float)\n",
    "embedding_feature_list = prepare_data(text_encode, scaled_time_diffs, torch.long)\n",
    "sequence_features = torch.tensor(sequence_encode, dtype=torch.float)\n",
    "y_encode = torch.tensor(y_encode, dtype=torch.long)"
   ]
  },
  {
   "cell_type": "code",
   "execution_count": null,
   "id": "1d1855c2-8e5d-43c0-bac3-e47ff98b73ef",
   "metadata": {},
   "outputs": [],
   "source": [
    "# Split indices for train and test\n",
    "train_indices, test_indices = train_test_split(range(len(event_feature_list)), test_size=0.2, stratify=y_encode.numpy(), random_state=42)\n",
    "\n",
    "# Split the data\n",
    "train_event_features = [event_feature_list[i] for i in train_indices]\n",
    "test_event_features = [event_feature_list[i] for i in test_indices]\n",
    "\n",
    "train_embedding_features = [embedding_feature_list[i] for i in train_indices]\n",
    "test_embedding_features = [embedding_feature_list[i] for i in test_indices]\n",
    "\n",
    "train_sequence_features = sequence_features[train_indices]\n",
    "test_sequence_features = sequence_features[test_indices]\n",
    "\n",
    "train_y = y_encode[train_indices]\n",
    "test_y = y_encode[test_indices]\n",
    "\n",
    "# Create datasets\n",
    "train_dataset = CustomDataset(train_event_features, train_embedding_features, train_sequence_features, train_y)\n",
    "test_dataset = CustomDataset(test_event_features, test_embedding_features, test_sequence_features, test_y)"
   ]
  },
  {
   "cell_type": "code",
   "execution_count": null,
   "id": "1290c68c-f530-4074-b6b5-8813efeb857e",
   "metadata": {},
   "outputs": [],
   "source": [
    "# usage\n",
    "output_dim = len(np.unique(y_encode))\n",
    "epochs = 300 # Increase epochs to allow for early stopping\n",
    "device = torch.device('cuda' if torch.cuda.is_available() else 'cpu')\n",
    "\n",
    "# Create an Optuna study and optimize the objective function\n",
    "patience = 30\n",
    "model_save_folder = '../output/model_hp/2levelEmbeddingGraphConv/'\n",
    "study = optuna.create_study(direction='maximize', \n",
    "                            storage='sqlite:///../output/2levelEmbeddingGraphConv.db',  \n",
    "                            load_if_exists=True)\n",
    "\n",
    "study.optimize(lambda trial: objective(trial, model_save_folder, \n",
    "                                       train_dataset, test_dataset, \n",
    "                                       num_event_features, num_embedding_features, num_sequence_features, \n",
    "                                       output_dim, \n",
    "                                       patience, epochs, device), n_trials=200)\n",
    "\n",
    "\n",
    "# Get the best hyperparameters\n",
    "print(\"Best Hyperparameters:\", study.best_params)\n",
    "print(\"Best test accuracy: \", study.best_value)\n"
   ]
  },
  {
   "cell_type": "code",
   "execution_count": null,
   "id": "99e320c9-4139-4ce6-8e6c-75dfa66defe1",
   "metadata": {},
   "outputs": [],
   "source": [
    "model_save_path = best_trial_path(study, model_save_folder)\n",
    "best_model_save_path =  f\"{model_save_path[:model_save_path.rfind('/')]}/best_model_{model_save_path[model_save_path.rfind('/')+1:]}\"\n",
    "# Copy the file and \n",
    "shutil.copy(model_save_path, best_model_save_path)\n",
    "\n",
    "best_model, optimizer, criterion, batch_size, l1_lambda, start_epoch, best_accuracy, best_loss, best_std_dev = load_model(EventSequenceEmbeddingGraphConvModel, model_save_path, device)"
   ]
  },
  {
   "cell_type": "code",
   "execution_count": null,
   "id": "05534bcc-8a2f-404e-a762-8654772fdc93",
   "metadata": {},
   "outputs": [],
   "source": [
    "# Create DataLoader with the loaded batch size\n",
    "train_loader = DataLoader(train_dataset, batch_size=batch_size, shuffle=True)\n",
    "test_loader = DataLoader(test_dataset, batch_size=batch_size, shuffle=False)\n",
    "\n",
    "# Define the number of epochs if you want to continue training\n",
    "final_epochs = 300  # Set to 0 if you only want to evaluate\n",
    "\n",
    "history = {\n",
    "        'train_loss': [],\n",
    "        'train_accuracy': [],\n",
    "        'test_loss': [],\n",
    "        'test_accuracy': []\n",
    "    }\n",
    "print(f\"Best epoch from best model:{start_epoch + 1}\")\n",
    "\n",
    "start_epoch = 0\n",
    "\n",
    "# Continue training from the last epoch if needed\n",
    "for epoch in range(start_epoch, start_epoch + final_epochs):\n",
    "    train_loss, train_accuracy = train(best_model, train_loader, optimizer, criterion, device, l1_lambda)\n",
    "    test_loss, test_accuracy = evaluate(best_model, test_loader, criterion, device)    \n",
    "    print(f'Epoch {epoch+1}, Train Loss: {train_loss:.4f}, Train Accuracy: {train_accuracy:.4f}, Test Loss: {test_loss:.4f}, Test Accuracy: {test_accuracy:.4f}')\n",
    "    # Store in history\n",
    "    history['train_loss'].append(train_loss)\n",
    "    history['train_accuracy'].append(train_accuracy)\n",
    "    history['test_loss'].append(test_loss)\n",
    "    history['test_accuracy'].append(test_accuracy)\n",
    "    # Optionally save the model if it improves\n",
    "    if test_accuracy > best_accuracy:\n",
    "        best_accuracy = test_accuracy\n",
    "        print(f\"New best accuracy with continue training: {best_accuracy:.4f}\")\n",
    "\n",
    "# Final Evaluation\n",
    "if final_epochs == 0:\n",
    "    test_loss, test_accuracy = evaluate(best_model, test_loader, criterion, device)\n",
    "    print(f\"Final Test Loss: {test_loss:.4f}, Final Test Accuracy: {test_accuracy:.4f}\")"
   ]
  },
  {
   "cell_type": "code",
   "execution_count": null,
   "id": "fd3e28e9-763d-44eb-9901-3eb12405729f",
   "metadata": {
    "scrolled": true
   },
   "outputs": [],
   "source": [
    "print(plot_training_history(history))"
   ]
  },
  {
   "cell_type": "code",
   "execution_count": null,
   "id": "0f9b79f3-ee5b-44e5-8726-acf6eee46989",
   "metadata": {},
   "outputs": [],
   "source": [
    "model_save_path = '../output/model_hp/2levelEmbeddingGraphConv_bpi12o/best_model_trial_13.pth'\n",
    "device = torch.device('cuda' if torch.cuda.is_available() else 'cpu')\n",
    "print_best_hp_graphconv(\"EventSequenceEmbeddingGraphConvModel\", model_save_path,device)"
   ]
  },
  {
   "cell_type": "code",
   "execution_count": null,
   "id": "7e2e9b6f-bfb8-4c66-9a3a-c11331a4e83e",
   "metadata": {},
   "outputs": [],
   "source": []
  }
 ],
 "metadata": {
  "kernelspec": {
   "display_name": "Python 3 (ipykernel)",
   "language": "python",
   "name": "python3"
  },
  "language_info": {
   "codemirror_mode": {
    "name": "ipython",
    "version": 3
   },
   "file_extension": ".py",
   "mimetype": "text/x-python",
   "name": "python",
   "nbconvert_exporter": "python",
   "pygments_lexer": "ipython3",
   "version": "3.11.9"
  }
 },
 "nbformat": 4,
 "nbformat_minor": 5
}
