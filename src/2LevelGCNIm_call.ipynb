{
 "cells": [
  {
   "cell_type": "code",
   "execution_count": null,
   "id": "ad1f8002-864a-4cf0-847a-c0bad963c329",
   "metadata": {},
   "outputs": [],
   "source": [
    "%reload_ext autoreload\n",
    "%autoreload 2\n",
    "import pandas as pd\n",
    "import numpy as np\n",
    "import optuna \n",
    "import torch\n",
    "from torch_geometric.loader import DataLoader\n",
    "from sklearn.model_selection import train_test_split\n",
    "from DataEncoder import encode_pad_event, encode_pad_sequence, scale_time_differences, label_encode_y\n",
    "from TwoLevelGCNIm import prepare_data, CustomDataset, train, evaluate, EarlyStopping, EventSequenceGCNModel, objective, load_model, f1_eva\n",
    "from utils import plot_training_history_im, print_best_hp_gcn_im, best_trial_path_im\n",
    "import os\n",
    "import shutil"
   ]
  },
  {
   "cell_type": "code",
   "execution_count": null,
   "id": "d9ca11d3-4dd7-4cbe-a91d-7ac790aa854b",
   "metadata": {},
   "outputs": [],
   "source": [
    "#event = pd.read_csv(\"D:/Research in UAE/sequence/output/BPI12af_Combin_Feature.csv\")\n",
    "#sequence = event[['case:concept:name','case:AMOUNT_REQ','result']].groupby(['case:concept:name']).first()\n",
    "#sequence = sequence.reset_index()\n",
    "event = pd.read_csv(\"D:/Research in UAE/sequence/output/Event_Feature_pro.csv\")\n",
    "sequence = pd.read_csv(\"D:/Research in UAE/sequence/output/Sequence_Feature_pro.csv\")"
   ]
  },
  {
   "cell_type": "code",
   "execution_count": null,
   "id": "8926759a-23f2-429b-87e1-5de2f112c48d",
   "metadata": {},
   "outputs": [],
   "source": [
    "y_col = sequence.result\n",
    "y_encode = label_encode_y(y_col)"
   ]
  },
  {
   "cell_type": "code",
   "execution_count": null,
   "id": "74cf2a41-dcda-4228-99de-fa9c7dcfea59",
   "metadata": {},
   "outputs": [],
   "source": [
    "#cat_col_event = ['activity_verb', 'activity_dec', 'StartRes', 'CompleteRes']\n",
    "#num_col_event = ['Duration']\n",
    "#case_index = 'case:concept:name'\n",
    "\n",
    "cat_col_event = ['Activity_verb', 'Activity_Dec', 'Resource', 'outcome', \"stopcode\"]\n",
    "num_col_event = ['net_promotor_score', 'creditscore', 'rate_charged', 'duration']\n",
    "case_index = 'Case ID'\n",
    "\n",
    "event_encode = encode_pad_event(event, cat_col_event, num_col_event, case_index, cat_mask = True, num_mask = True, eos = False)"
   ]
  },
  {
   "cell_type": "code",
   "execution_count": null,
   "id": "645d6220-b167-4f29-a0e6-f3d6b5bc4140",
   "metadata": {},
   "outputs": [],
   "source": [
    "#cat_col_seq = []\n",
    "#num_col_seq = ['case:AMOUNT_REQ']\n",
    "cat_col_seq = ['plan']\n",
    "num_col_seq = ['age', 'coverage_numeric', 'length_of_stay']\n",
    "sequence_encode = encode_pad_sequence(sequence, cat_col_seq, num_col_seq)"
   ]
  },
  {
   "cell_type": "code",
   "execution_count": null,
   "id": "2164d309-ff41-435d-9466-b1fdc3c36bdc",
   "metadata": {},
   "outputs": [],
   "source": [
    "#start_time_col = 'StartTime'\n",
    "start_time_col = 'Start Timestamp'\n",
    "scaled_time_diffs = scale_time_differences(event, sequence, start_time_col, case_index)"
   ]
  },
  {
   "cell_type": "code",
   "execution_count": null,
   "id": "24951e07-7064-4410-80d8-2d7bba01b7de",
   "metadata": {},
   "outputs": [],
   "source": [
    "num_sequences = event_encode.shape[0]\n",
    "max_num_events = event_encode.shape[1]\n",
    "num_event_features = event_encode.shape[2]\n",
    "num_sequence_features = sequence_encode.shape[1]"
   ]
  },
  {
   "cell_type": "code",
   "execution_count": null,
   "id": "fcece4a5-3ea5-46ef-b43a-5ca453cb66ed",
   "metadata": {},
   "outputs": [],
   "source": [
    "# data preparation is done as described above\n",
    "event_feature_list = prepare_data(event_encode, scaled_time_diffs, torch.float)\n",
    "sequence_features = torch.tensor(sequence_encode, dtype=torch.float)\n",
    "y_encode = torch.tensor(y_encode, dtype=torch.long)"
   ]
  },
  {
   "cell_type": "code",
   "execution_count": null,
   "id": "b38a45b3-26ae-485b-a4f1-62f564e00daa",
   "metadata": {},
   "outputs": [],
   "source": [
    "# Split indices for train and test\n",
    "train_indices, test_indices = train_test_split(range(len(event_feature_list)), test_size=0.2, stratify=y_encode.numpy(), random_state=42)\n",
    "\n",
    "# Split the data\n",
    "train_event_features = [event_feature_list[i] for i in train_indices]\n",
    "test_event_features = [event_feature_list[i] for i in test_indices]\n",
    "\n",
    "train_sequence_features = sequence_features[train_indices]\n",
    "test_sequence_features = sequence_features[test_indices]\n",
    "\n",
    "train_y = y_encode[train_indices]\n",
    "test_y = y_encode[test_indices]\n",
    "\n",
    "# Create datasets\n",
    "train_dataset = CustomDataset(train_event_features, train_sequence_features, train_y)\n",
    "test_dataset = CustomDataset(test_event_features, test_sequence_features, test_y)\n",
    "\n",
    "# DataLoader\n",
    "#train_loader = DataLoader(train_dataset, batch_size=32, shuffle=True)\n",
    "#test_loader = DataLoader(test_dataset, batch_size=32, shuffle=False)\n"
   ]
  },
  {
   "cell_type": "code",
   "execution_count": null,
   "id": "da39fd9f-b410-4aec-8037-497fe2eeda3f",
   "metadata": {},
   "outputs": [],
   "source": [
    "# Example usage\n",
    "patience = 30\n",
    "output_dim = len(np.unique(y_encode))\n",
    "epochs = 300 # Increase epochs to allow for early stopping\n",
    "device = torch.device('cuda' if torch.cuda.is_available() else 'cpu')\n",
    "model_save_folder = '../output/model_hp/2levelGCNIm/'\n",
    "study = optuna.create_study(direction='maximize', \n",
    "                            storage='sqlite:///../output/2levelGCNIm.db',  \n",
    "                            load_if_exists=True)\n",
    "#study.optimize(objective, n_trials=80)\n",
    "study.optimize(lambda trial: objective(trial, model_save_folder, \n",
    "                                       train_dataset, test_dataset, \n",
    "                                       num_event_features, num_sequence_features, \n",
    "                                       output_dim, \n",
    "                                       patience, epochs, device), n_trials=200)\n",
    "\n",
    "# Get the best hyperparameters\n",
    "print(\"Best Hyperparameters:\", study.best_params)\n",
    "print(\"Best test f1: \", study.best_value)"
   ]
  },
  {
   "cell_type": "code",
   "execution_count": null,
   "id": "81e46216-36ff-43a2-b112-ebe6c9712cd3",
   "metadata": {},
   "outputs": [],
   "source": [
    "model_save_path = best_trial_path_im(study, model_save_folder)\n",
    "\n",
    "best_model_save_path =  f\"{model_save_path[:model_save_path.rfind('/')]}/best_model_{model_save_path[model_save_path.rfind('/')+1:]}\"\n",
    "# Copy the file and \n",
    "shutil.copy(model_save_path, best_model_save_path)\n",
    "\n",
    "best_model, optimizer, criterion, batch_size, l1_lambda, best_epoch, best_accuracy, best_loss, best_std_dev, best_f1 = load_model(EventSequenceGCNModel, model_save_path, device)"
   ]
  },
  {
   "cell_type": "code",
   "execution_count": null,
   "id": "ba96b61a-6344-4b5d-8101-1d4ae41f7bd5",
   "metadata": {},
   "outputs": [],
   "source": [
    "# Create DataLoader with the loaded batch size\n",
    "train_loader = DataLoader(train_dataset, batch_size=batch_size, shuffle=True)\n",
    "test_loader = DataLoader(test_dataset, batch_size=batch_size, shuffle=False)\n",
    "\n",
    "# Define the number of epochs if you want to continue training\n",
    "final_epochs = 0  # Set to 0 if you only want to evaluate\n",
    "\n",
    "print(f\"Best epoch from best model:{best_epoch+1}\")\n",
    "\n",
    "if final_epochs !=0:\n",
    "    history = {\n",
    "        'train_loss': [],\n",
    "        'train_f1': [],\n",
    "        'test_loss': [],\n",
    "        'test_f1': []\n",
    "    }\n",
    "    start_epoch = 0\n",
    "    \n",
    "    # Continue training from the last epoch if needed\n",
    "    for epoch in range(start_epoch, start_epoch + final_epochs):\n",
    "        train_loss, train_accuracy, train_f1 = train(best_model, train_loader, optimizer, criterion, device, l1_lambda)\n",
    "        test_loss, test_accuracy, test_f1 = evaluate(best_model, test_loader, criterion, device)    \n",
    "        print(f'Epoch {epoch+1}, Train Loss: {train_loss:.4f}, Train F1: {train_f1:.4f}, Test Loss: {test_loss:.4f}, Test F1: {test_f1:.4f}')\n",
    "        # Store in history\n",
    "        history['train_loss'].append(train_loss)\n",
    "        history['train_f1'].append(train_f1)\n",
    "        history['test_loss'].append(test_loss)\n",
    "        history['test_f1'].append(test_f1)\n",
    "        # Optionally save the model if it improves\n",
    "        if test_f1 > best_f1:\n",
    "            best_f1 = test_f1\n",
    "            print(f\"New best F1 with continue training: {best_f1:.4f}\")\n",
    "            print(f\"New best epoch with continue training: {epoch+1}\" )\n",
    "\n",
    "# Final Evaluation\n",
    "if final_epochs == 0:\n",
    "    test_loss, test_accuracy, test_f1 = evaluate(best_model, test_loader, criterion, device)\n",
    "    print(f\"Final Test Loss: {test_loss:.4f}, Final Test F1: {test_f1:.4f}, Final Test Accuracy : {test_accuracy:.4f}\" )"
   ]
  },
  {
   "cell_type": "code",
   "execution_count": null,
   "id": "b760278e-0af6-4d8d-a624-c49b8b660c4a",
   "metadata": {},
   "outputs": [],
   "source": [
    "print(plot_training_history_im(history))"
   ]
  },
  {
   "cell_type": "code",
   "execution_count": null,
   "id": "3f0be353-246b-4c92-8039-1c8501aa82c8",
   "metadata": {},
   "outputs": [],
   "source": [
    "print_best_hp_gcn_im(\"EventSequenceGCNModel\", model_save_path,device)"
   ]
  },
  {
   "cell_type": "code",
   "execution_count": null,
   "id": "3637f8fb-d95b-4ecd-bd41-f9193466eb63",
   "metadata": {},
   "outputs": [],
   "source": [
    "# Final evaluation to get predictions and labels\n",
    "test_loss, test_accuracy, conf_matrix, class_report = f1_eva(best_model, test_loader, criterion, device)\n",
    "\n",
    "# Print final evaluation metrics\n",
    "print(f\"Final Test Loss: {test_loss:.4f}, Final Test Accuracy: {test_accuracy:.4f}\")\n",
    "\n",
    "print(\"Confusion Matrix:\")\n",
    "print(conf_matrix)\n",
    "print(\"\\nClassification Report (with F1 scores for each class):\")\n",
    "print(class_report)"
   ]
  },
  {
   "cell_type": "code",
   "execution_count": null,
   "id": "00af24f6-a134-4a73-bce6-83c2b59b7dc9",
   "metadata": {},
   "outputs": [],
   "source": []
  }
 ],
 "metadata": {
  "kernelspec": {
   "display_name": "Python 3 (ipykernel)",
   "language": "python",
   "name": "python3"
  },
  "language_info": {
   "codemirror_mode": {
    "name": "ipython",
    "version": 3
   },
   "file_extension": ".py",
   "mimetype": "text/x-python",
   "name": "python",
   "nbconvert_exporter": "python",
   "pygments_lexer": "ipython3",
   "version": "3.11.9"
  }
 },
 "nbformat": 4,
 "nbformat_minor": 5
}
