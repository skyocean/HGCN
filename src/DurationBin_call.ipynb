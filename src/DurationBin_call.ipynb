{
 "cells": [
  {
   "cell_type": "code",
   "execution_count": 1,
   "id": "f4784ca8-f243-4602-b442-13bfa2f1a262",
   "metadata": {},
   "outputs": [],
   "source": [
    "%load_ext autoreload\n",
    "%autoreload 2\n",
    "import pandas as pd\n",
    "import numpy as np\n",
    "from datetime import datetime, timedelta\n",
    "#from sklearn.preprocessing import OneHotEncoder, MinMaxScaler, LabelEncoder\n",
    "#from sklearn.feature_extraction.text import TfidfVectorizer\n",
    "from DurationEmbedding import bin_cutoff, tfidf_embedding"
   ]
  },
  {
   "cell_type": "code",
   "execution_count": 2,
   "id": "e89d03d2-08e3-453f-b420-679b68d779c3",
   "metadata": {},
   "outputs": [],
   "source": [
    "event = pd.read_csv(\"D:/Research in UAE/sequence/output/Event_Feature.csv\")\n",
    "#event = pd.read_csv(\"D:/Research in UAE/sequence/output/BPI12of_Combin_Feature.csv\")"
   ]
  },
  {
   "cell_type": "code",
   "execution_count": 36,
   "id": "170773e1-4c12-49a9-9720-0e5d59db40b2",
   "metadata": {
    "scrolled": true
   },
   "outputs": [],
   "source": [
    "event_embedding = event[['Case ID', 'Start Timestamp', 'Activity_code', 'duration']].copy()\n",
    "#event_embedding = event[['case:concept:name', 'StartTime', 'activity', 'Duration']].copy()\n",
    "event_embedding.loc[:,'duration_min'] = np.ceil(event_embedding['duration']/60)\n",
    "#event_embedding.loc[:,'duration_min'] = np.ceil(event_embedding['Duration']/60)"
   ]
  },
  {
   "cell_type": "code",
   "execution_count": 37,
   "id": "ba6cd3f8-2987-4236-9266-c5d3cbc439c3",
   "metadata": {},
   "outputs": [
    {
     "name": "stdout",
     "output_type": "stream",
     "text": [
      "bin\n",
      "0       9091\n",
      "1        452\n",
      "1074     206\n",
      "1171     204\n",
      "1253     205\n",
      "1322     206\n",
      "1400     204\n",
      "1468     205\n",
      "1544     205\n",
      "1629     208\n",
      "1714     204\n",
      "1812     203\n",
      "1912     205\n",
      "2        723\n",
      "2052     205\n",
      "2292     205\n",
      "3        454\n",
      "4        134\n",
      "4194     205\n",
      "5        206\n",
      "6058     206\n",
      "674      206\n",
      "851      207\n",
      "977      202\n",
      "Name: count, dtype: int64\n",
      "Cut-off values for bins:\n",
      "[5, 674)\n",
      "[674, 851)\n",
      "[851, 977)\n",
      "[977, 1074)\n",
      "[1074, 1171)\n",
      "[1171, 1253)\n",
      "[1253, 1322)\n",
      "[1322, 1400)\n",
      "[1400, 1468)\n",
      "[1468, 1544)\n",
      "[1544, 1629)\n",
      "[1629, 1714)\n",
      "[1714, 1812)\n",
      "[1812, 1912)\n",
      "[1912, 2052)\n",
      "[2052, 2292)\n",
      "[2292, 4194)\n",
      "[4194, 6058)\n",
      "[6058, 10742)\n"
     ]
    }
   ],
   "source": [
    "event_embedding = bin_cutoff(event_embedding, 'duration_min', 5,20)"
   ]
  },
  {
   "cell_type": "code",
   "execution_count": 38,
   "id": "069e78fb-923e-407b-b7a2-bef5d5eac8ec",
   "metadata": {},
   "outputs": [],
   "source": [
    "event_embedding = tfidf_embedding(event_embedding, \"Case ID\", \"Activity_code\", \"bin\")"
   ]
  },
  {
   "cell_type": "code",
   "execution_count": 39,
   "id": "9330c266-f06f-43fd-84a6-54a2fd2234fe",
   "metadata": {},
   "outputs": [],
   "source": [
    "event_embedding.to_csv(\"D:/Research in UAE/sequence/output/Event_Duration_Embedding_pro.csv\", index = False)"
   ]
  },
  {
   "cell_type": "code",
   "execution_count": null,
   "id": "c9a533b0-04e2-4273-9500-3040b967a44c",
   "metadata": {},
   "outputs": [],
   "source": []
  }
 ],
 "metadata": {
  "kernelspec": {
   "display_name": "Python 3 (ipykernel)",
   "language": "python",
   "name": "python3"
  },
  "language_info": {
   "codemirror_mode": {
    "name": "ipython",
    "version": 3
   },
   "file_extension": ".py",
   "mimetype": "text/x-python",
   "name": "python",
   "nbconvert_exporter": "python",
   "pygments_lexer": "ipython3",
   "version": "3.11.9"
  }
 },
 "nbformat": 4,
 "nbformat_minor": 5
}
