{
 "cells": [
  {
   "cell_type": "code",
   "execution_count": null,
   "id": "2c2e503b-cf1c-45e8-8a70-3a64d1c440d4",
   "metadata": {},
   "outputs": [],
   "source": [
    "%reload_ext autoreload\n",
    "%autoreload 2\n",
    "import pandas as pd\n",
    "import numpy as np\n",
    "import optuna \n",
    "import torch\n",
    "import os\n",
    "from torch_geometric.loader import DataLoader\n",
    "from sklearn.model_selection import train_test_split\n",
    "from DataEncoder import encode_pad_event, encode_pad_sequence, scale_time_differences, label_encode_y\n",
    "from OneLevelGCN import prepare_data, CustomDataset, train, evaluate, EarlyStopping, GCNModel, objective, load_model\n",
    "from utils import plot_training_history, print_best_hp_gcn, best_trial_path\n",
    "import shutil"
   ]
  },
  {
   "cell_type": "code",
   "execution_count": null,
   "id": "d9ca11d3-4dd7-4cbe-a91d-7ac790aa854b",
   "metadata": {},
   "outputs": [],
   "source": [
    "#event = pd.read_csv(\"../output/BPI12af_Combin_Feature.csv\")\n",
    "#sequence = event[['case:concept:name','case:AMOUNT_REQ','result']].groupby(['case:concept:name']).first()\n",
    "#sequence = sequence.reset_index()\n",
    "event = pd.read_csv(\"../output/Event_Feature_pro.csv\")\n",
    "sequence = pd.read_csv(\"../output/Sequence_Feature_pro.csv\")"
   ]
  },
  {
   "cell_type": "code",
   "execution_count": null,
   "id": "8926759a-23f2-429b-87e1-5de2f112c48d",
   "metadata": {},
   "outputs": [],
   "source": [
    "y_col = sequence.result\n",
    "y_encode = label_encode_y(y_col)"
   ]
  },
  {
   "cell_type": "code",
   "execution_count": null,
   "id": "74cf2a41-dcda-4228-99de-fa9c7dcfea59",
   "metadata": {},
   "outputs": [],
   "source": [
    "#cat_col_event = ['activity_verb', 'activity_dec', 'StartRes', 'CompleteRes']\n",
    "#num_col_event = ['Duration']\n",
    "#case_index = 'case:concept:name'\n",
    "\n",
    "cat_col_event = ['Activity_verb', 'Activity_Dec', 'Resource', 'outcome', \"stopcode\"]\n",
    "num_col_event = ['net_promotor_score', 'creditscore', 'rate_charged', 'duration']\n",
    "case_index = 'Case ID'\n",
    "\n",
    "event_encode = encode_pad_event(event, cat_col_event, num_col_event, case_index, cat_mask = True, num_mask = True, eos = False)"
   ]
  },
  {
   "cell_type": "code",
   "execution_count": null,
   "id": "645d6220-b167-4f29-a0e6-f3d6b5bc4140",
   "metadata": {},
   "outputs": [],
   "source": [
    "#cat_col_seq = []\n",
    "#num_col_seq = ['case:AMOUNT_REQ']\n",
    "cat_col_seq = ['plan']\n",
    "num_col_seq = ['age', 'coverage_numeric', 'length_of_stay']\n",
    "sequence_encode = encode_pad_sequence(sequence, cat_col_seq, num_col_seq)"
   ]
  },
  {
   "cell_type": "code",
   "execution_count": null,
   "id": "2164d309-ff41-435d-9466-b1fdc3c36bdc",
   "metadata": {},
   "outputs": [],
   "source": [
    "#start_time_col = 'StartTime'\n",
    "start_time_col = 'Start Timestamp'\n",
    "scaled_time_diffs = scale_time_differences(event, sequence, start_time_col, case_index)"
   ]
  },
  {
   "cell_type": "code",
   "execution_count": null,
   "id": "24951e07-7064-4410-80d8-2d7bba01b7de",
   "metadata": {},
   "outputs": [],
   "source": [
    "num_sequences = event_encode.shape[0]\n",
    "max_num_events = event_encode.shape[1]\n",
    "num_event_features = event_encode.shape[2]\n",
    "num_sequence_features = sequence_encode.shape[1]\n",
    "\n",
    "# Expand sequence features to match the shape of event features\n",
    "sequence_features_expanded = np.expand_dims(sequence_encode, axis=1)\n",
    "sequence_features_expanded = np.repeat(sequence_features_expanded, max_num_events, axis=1)\n",
    "\n",
    "# Combine event and sequence features\n",
    "combined_features = np.concatenate((event_encode, sequence_features_expanded), axis=2)"
   ]
  },
  {
   "cell_type": "code",
   "execution_count": null,
   "id": "c76843ed-5ae1-4c3c-9066-d657a66bb331",
   "metadata": {},
   "outputs": [],
   "source": [
    "# data preparation is done as described above\n",
    "event_feature_list = prepare_data(combined_features, scaled_time_diffs, torch.float)\n",
    "y_encode = torch.tensor(y_encode, dtype=torch.long)"
   ]
  },
  {
   "cell_type": "code",
   "execution_count": null,
   "id": "34d6369b-2bb3-4486-baa3-d9766b7ab81d",
   "metadata": {},
   "outputs": [],
   "source": [
    "# Split indices for train and test\n",
    "train_indices, test_indices = train_test_split(range(len(event_feature_list)), test_size=0.2, stratify=y_encode.numpy(), random_state=42)\n",
    "\n",
    "# Split the data\n",
    "train_event_features = [event_feature_list[i] for i in train_indices]\n",
    "test_event_features = [event_feature_list[i] for i in test_indices]\n",
    "\n",
    "train_y = y_encode[train_indices]\n",
    "test_y = y_encode[test_indices]\n",
    "\n",
    "# Create datasets\n",
    "train_dataset = CustomDataset(train_event_features, train_y)\n",
    "test_dataset = CustomDataset(test_event_features, test_y)"
   ]
  },
  {
   "cell_type": "code",
   "execution_count": null,
   "id": "89654cc3-714a-480d-8032-e5cb99b6b74c",
   "metadata": {},
   "outputs": [],
   "source": [
    "# Example usage\n",
    "num_comb_features = combined_features.shape[2]  # Number of features per node\n",
    "output_dim = len(np.unique(y_encode))\n",
    "epochs = 200 # Increase epochs to allow for early stopping\n",
    "device = torch.device('cuda' if torch.cuda.is_available() else 'cpu')\n",
    "\n",
    "# Create an Optuna study and optimize the objective function\n",
    "patience = 30\n",
    "model_save_folder = '../output/model_hp/1levelGCN/'\n",
    "#model_save_folder = '../output/model_hp/1levelGCN_bpi12o/'"
   ]
  },
  {
   "cell_type": "code",
   "execution_count": null,
   "id": "3345115b-e024-48f2-8d2b-58f89ee55222",
   "metadata": {},
   "outputs": [],
   "source": [
    "study = optuna.create_study(direction='maximize')\n",
    "#study.optimize(objective, n_trials=80)\n",
    "study.optimize(lambda trial: objective(trial, model_save_folder, \n",
    "                                       train_dataset, test_dataset, \n",
    "                                       num_comb_features,\n",
    "                                       output_dim, \n",
    "                                       patience, epochs, device), n_trials=200)\n",
    "\n",
    "# Get the best hyperparameters\n",
    "print(\"Best Hyperparameters:\", study.best_params)\n",
    "print(\"Best test accuracy: \", study.best_value)\n"
   ]
  },
  {
   "cell_type": "code",
   "execution_count": null,
   "id": "bb61dc0e-7ce4-4f5f-bea9-b61085700cc2",
   "metadata": {},
   "outputs": [],
   "source": [
    "model_save_path = best_trial_path(study, model_save_folder)\n",
    "\n",
    "best_model_save_path =  f\"{model_save_path[:model_save_path.rfind('/')]}/best_model_{model_save_path[model_save_path.rfind('/')+1:]}\"\n",
    "# Copy the file and \n",
    "shutil.copy(model_save_path, best_model_save_path)\n",
    "\n",
    "best_model, optimizer, criterion, batch_size, l1_lambda, start_epoch, best_accuracy, best_loss, best_std_dev = load_model(GCNModel, model_save_path, device)"
   ]
  },
  {
   "cell_type": "code",
   "execution_count": null,
   "id": "70913d86-6dbb-4a35-b643-01482b572b86",
   "metadata": {},
   "outputs": [],
   "source": [
    "# Create DataLoader with the loaded batch size\n",
    "train_loader = DataLoader(train_dataset, batch_size=batch_size, shuffle=True)\n",
    "test_loader = DataLoader(test_dataset, batch_size=batch_size, shuffle=False)\n",
    "\n",
    "# Define the number of epochs if you want to continue training\n",
    "final_epochs = 300  # Set to 0 if you only want to evaluate\n",
    "\n",
    "history = {\n",
    "        'train_loss': [],\n",
    "        'train_accuracy': [],\n",
    "        'test_loss': [],\n",
    "        'test_accuracy': []\n",
    "    }\n",
    "print(f\"Best epoch from best model:{start_epoch+1}\")\n",
    "\n",
    "start_epoch = 0\n",
    "\n",
    "# Continue training from the last epoch if needed\n",
    "for epoch in range(start_epoch, start_epoch + final_epochs):\n",
    "    train_loss, train_accuracy = train(best_model, train_loader, optimizer, criterion, device, l1_lambda)\n",
    "    test_loss, test_accuracy = evaluate(best_model, test_loader, criterion, device)    \n",
    "    print(f'Epoch {epoch+1}, Train Loss: {train_loss:.4f}, Train Accuracy: {train_accuracy:.4f}, Test Loss: {test_loss:.4f}, Test Accuracy: {test_accuracy:.4f}')\n",
    "    # Store in history\n",
    "    history['train_loss'].append(train_loss)\n",
    "    history['train_accuracy'].append(train_accuracy)\n",
    "    history['test_loss'].append(test_loss)\n",
    "    history['test_accuracy'].append(test_accuracy)\n",
    "    # Optionally save the model if it improves\n",
    "    if test_accuracy > best_accuracy:\n",
    "        best_accuracy = test_accuracy\n",
    "        print(f\"New best accuracy with continue training: {best_accuracy:.4f}\")\n",
    "        print(f\"New best epoch with continue training: {epoch+1}\" )\n",
    "\n",
    "# Final Evaluation\n",
    "if final_epochs == 0:\n",
    "    test_loss, test_accuracy = evaluate(best_model, test_loader, criterion, device)\n",
    "    print(f\"Final Test Loss: {test_loss:.4f}, Final Test Accuracy: {test_accuracy:.4f}\")"
   ]
  },
  {
   "cell_type": "code",
   "execution_count": null,
   "id": "b73f7a0d-db54-46f7-9d20-0cdc24546888",
   "metadata": {},
   "outputs": [],
   "source": [
    "print(plot_training_history(history))"
   ]
  },
  {
   "cell_type": "code",
   "execution_count": null,
   "id": "24a2d3d3-db59-458a-9815-2b1766523535",
   "metadata": {},
   "outputs": [],
   "source": [
    "print_best_hp_gcn(\"GCNModel\", model_save_path, device)"
   ]
  }
 ],
 "metadata": {
  "kernelspec": {
   "display_name": "Python 3 (ipykernel)",
   "language": "python",
   "name": "python3"
  },
  "language_info": {
   "codemirror_mode": {
    "name": "ipython",
    "version": 3
   },
   "file_extension": ".py",
   "mimetype": "text/x-python",
   "name": "python",
   "nbconvert_exporter": "python",
   "pygments_lexer": "ipython3",
   "version": "3.11.9"
  }
 },
 "nbformat": 4,
 "nbformat_minor": 5
}
